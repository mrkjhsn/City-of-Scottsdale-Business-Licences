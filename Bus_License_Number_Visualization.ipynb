{
 "cells": [
  {
   "cell_type": "code",
   "execution_count": 1,
   "metadata": {
    "scrolled": true
   },
   "outputs": [],
   "source": [
    "import pandas as pd\n",
    "import numpy as np\n",
    "import matplotlib.pyplot as plt\n",
    "import seaborn as sns\n",
    "\n",
    "pd.set_option('display.max_colwidth', -1)\n",
    "pd.set_option('display.max_columns', None)\n",
    "\n",
    "business_licenses = pd.read_csv('BusinessLicenses_cleaned.txt', sep='|', engine='python')\n",
    "\n",
    "# sort business names ascending\n",
    "business_licenses.sort_values(['LicenseNumber'], ascending=True, inplace=True)"
   ]
  },
  {
   "cell_type": "code",
   "execution_count": 14,
   "metadata": {
    "scrolled": false
   },
   "outputs": [
    {
     "data": {
      "text/html": [
       "<div>\n",
       "<style scoped>\n",
       "    .dataframe tbody tr th:only-of-type {\n",
       "        vertical-align: middle;\n",
       "    }\n",
       "\n",
       "    .dataframe tbody tr th {\n",
       "        vertical-align: top;\n",
       "    }\n",
       "\n",
       "    .dataframe thead th {\n",
       "        text-align: right;\n",
       "    }\n",
       "</style>\n",
       "<table border=\"1\" class=\"dataframe\">\n",
       "  <thead>\n",
       "    <tr style=\"text-align: right;\">\n",
       "      <th></th>\n",
       "      <th>BusinessName</th>\n",
       "      <th>LicenseNumber</th>\n",
       "      <th>LicenseType</th>\n",
       "      <th>ServiceStreet</th>\n",
       "      <th>ServiceStreet2</th>\n",
       "      <th>ServiceUnitType</th>\n",
       "      <th>ServiceUnit</th>\n",
       "      <th>ServiceCity</th>\n",
       "      <th>ServiceCounty</th>\n",
       "      <th>ServiceState</th>\n",
       "      <th>ServiceZip</th>\n",
       "      <th>ServiceCountry</th>\n",
       "      <th>IssuedDate</th>\n",
       "      <th>MailingStreet</th>\n",
       "      <th>MailingStreet2</th>\n",
       "      <th>MailingUnitType</th>\n",
       "      <th>MailingUnit</th>\n",
       "      <th>MailingCity</th>\n",
       "      <th>MailingCounty</th>\n",
       "      <th>MailingState</th>\n",
       "      <th>MailingZip</th>\n",
       "      <th>MailingCountry</th>\n",
       "    </tr>\n",
       "  </thead>\n",
       "  <tbody>\n",
       "    <tr>\n",
       "      <th>21690</th>\n",
       "      <td>A-ACCENT PLUMBING INC</td>\n",
       "      <td>27</td>\n",
       "      <td>TPS</td>\n",
       "      <td>2721 E INDIAN SCHOOL RD</td>\n",
       "      <td>NaN</td>\n",
       "      <td>NaN</td>\n",
       "      <td>NaN</td>\n",
       "      <td>PHOENIX</td>\n",
       "      <td>MARICOPA</td>\n",
       "      <td>AZ</td>\n",
       "      <td>850166855</td>\n",
       "      <td>USA</td>\n",
       "      <td>2016-01-04 00:00:00</td>\n",
       "      <td>NaN</td>\n",
       "      <td>NaN</td>\n",
       "      <td>NaN</td>\n",
       "      <td>NaN</td>\n",
       "      <td>NaN</td>\n",
       "      <td>NaN</td>\n",
       "      <td>NaN</td>\n",
       "      <td>NaN</td>\n",
       "      <td>NaN</td>\n",
       "    </tr>\n",
       "    <tr>\n",
       "      <th>10381</th>\n",
       "      <td>ASSOCIATED FINISHES INC</td>\n",
       "      <td>168</td>\n",
       "      <td>TPS</td>\n",
       "      <td>7335 E ACOMA DR STE 101</td>\n",
       "      <td>NaN</td>\n",
       "      <td>STE</td>\n",
       "      <td>101</td>\n",
       "      <td>SCOTTSDALE</td>\n",
       "      <td>MARICOPA</td>\n",
       "      <td>AZ</td>\n",
       "      <td>852603120</td>\n",
       "      <td>USA</td>\n",
       "      <td>2015-12-16 00:00:00</td>\n",
       "      <td>NaN</td>\n",
       "      <td>NaN</td>\n",
       "      <td>NaN</td>\n",
       "      <td>NaN</td>\n",
       "      <td>NaN</td>\n",
       "      <td>NaN</td>\n",
       "      <td>NaN</td>\n",
       "      <td>NaN</td>\n",
       "      <td>NaN</td>\n",
       "    </tr>\n",
       "    <tr>\n",
       "      <th>11045</th>\n",
       "      <td>BARRY'S DANCE THEATRE SHOP</td>\n",
       "      <td>206</td>\n",
       "      <td>TPS</td>\n",
       "      <td>2246 N SCOTTSDALE RD</td>\n",
       "      <td>NaN</td>\n",
       "      <td>NaN</td>\n",
       "      <td>NaN</td>\n",
       "      <td>SCOTTSDALE</td>\n",
       "      <td>MARICOPA</td>\n",
       "      <td>AZ</td>\n",
       "      <td>852572125</td>\n",
       "      <td>USA</td>\n",
       "      <td>2015-12-28 00:00:00</td>\n",
       "      <td>2246 N SCOTTSDALE RD</td>\n",
       "      <td>NaN</td>\n",
       "      <td>NaN</td>\n",
       "      <td>NaN</td>\n",
       "      <td>SCOTTSDALE</td>\n",
       "      <td>MARICOPA</td>\n",
       "      <td>AZ</td>\n",
       "      <td>852572125</td>\n",
       "      <td>USA</td>\n",
       "    </tr>\n",
       "    <tr>\n",
       "      <th>2447</th>\n",
       "      <td>BASHAS 16</td>\n",
       "      <td>211</td>\n",
       "      <td>TPS</td>\n",
       "      <td>8423 E MCDONALD DR</td>\n",
       "      <td>NaN</td>\n",
       "      <td>NaN</td>\n",
       "      <td>NaN</td>\n",
       "      <td>SCOTTSDALE</td>\n",
       "      <td>MARICOPA</td>\n",
       "      <td>AZ</td>\n",
       "      <td>852506326</td>\n",
       "      <td>USA</td>\n",
       "      <td>2015-12-01 00:00:00</td>\n",
       "      <td>PO BOX 488</td>\n",
       "      <td>NaN</td>\n",
       "      <td>NaN</td>\n",
       "      <td>NaN</td>\n",
       "      <td>CHANDLER</td>\n",
       "      <td>MARICOPA</td>\n",
       "      <td>AZ</td>\n",
       "      <td>852440488</td>\n",
       "      <td>USA</td>\n",
       "    </tr>\n",
       "    <tr>\n",
       "      <th>23568</th>\n",
       "      <td>BOOTZ AND DUKE SIGN COMPANY</td>\n",
       "      <td>285</td>\n",
       "      <td>TPS</td>\n",
       "      <td>4028 W WHITTON AVE</td>\n",
       "      <td>NaN</td>\n",
       "      <td>NaN</td>\n",
       "      <td>NaN</td>\n",
       "      <td>PHOENIX</td>\n",
       "      <td>MARICOPA</td>\n",
       "      <td>AZ</td>\n",
       "      <td>850193623</td>\n",
       "      <td>USA</td>\n",
       "      <td>2015-12-21 00:00:00</td>\n",
       "      <td>NaN</td>\n",
       "      <td>NaN</td>\n",
       "      <td>NaN</td>\n",
       "      <td>NaN</td>\n",
       "      <td>NaN</td>\n",
       "      <td>NaN</td>\n",
       "      <td>NaN</td>\n",
       "      <td>NaN</td>\n",
       "      <td>NaN</td>\n",
       "    </tr>\n",
       "  </tbody>\n",
       "</table>\n",
       "</div>"
      ],
      "text/plain": [
       "                      BusinessName  LicenseNumber LicenseType  \\\n",
       "21690  A-ACCENT PLUMBING INC        27             TPS          \n",
       "10381  ASSOCIATED FINISHES INC      168            TPS          \n",
       "11045  BARRY'S DANCE THEATRE SHOP   206            TPS          \n",
       "2447   BASHAS 16                    211            TPS          \n",
       "23568  BOOTZ AND DUKE SIGN COMPANY  285            TPS          \n",
       "\n",
       "                   ServiceStreet ServiceStreet2 ServiceUnitType ServiceUnit  \\\n",
       "21690  2721 E INDIAN SCHOOL RD    NaN            NaN             NaN          \n",
       "10381  7335 E ACOMA DR STE 101    NaN            STE             101          \n",
       "11045  2246 N SCOTTSDALE RD       NaN            NaN             NaN          \n",
       "2447   8423 E MCDONALD DR         NaN            NaN             NaN          \n",
       "23568  4028 W WHITTON AVE         NaN            NaN             NaN          \n",
       "\n",
       "      ServiceCity ServiceCounty ServiceState ServiceZip ServiceCountry  \\\n",
       "21690  PHOENIX     MARICOPA      AZ           850166855  USA             \n",
       "10381  SCOTTSDALE  MARICOPA      AZ           852603120  USA             \n",
       "11045  SCOTTSDALE  MARICOPA      AZ           852572125  USA             \n",
       "2447   SCOTTSDALE  MARICOPA      AZ           852506326  USA             \n",
       "23568  PHOENIX     MARICOPA      AZ           850193623  USA             \n",
       "\n",
       "                IssuedDate           MailingStreet MailingStreet2  \\\n",
       "21690  2016-01-04 00:00:00  NaN                     NaN             \n",
       "10381  2015-12-16 00:00:00  NaN                     NaN             \n",
       "11045  2015-12-28 00:00:00  2246 N SCOTTSDALE RD    NaN             \n",
       "2447   2015-12-01 00:00:00  PO BOX 488              NaN             \n",
       "23568  2015-12-21 00:00:00  NaN                     NaN             \n",
       "\n",
       "      MailingUnitType MailingUnit MailingCity MailingCounty MailingState  \\\n",
       "21690  NaN             NaN         NaN         NaN           NaN           \n",
       "10381  NaN             NaN         NaN         NaN           NaN           \n",
       "11045  NaN             NaN         SCOTTSDALE  MARICOPA      AZ            \n",
       "2447   NaN             NaN         CHANDLER    MARICOPA      AZ            \n",
       "23568  NaN             NaN         NaN         NaN           NaN           \n",
       "\n",
       "      MailingZip MailingCountry  \n",
       "21690  NaN        NaN            \n",
       "10381  NaN        NaN            \n",
       "11045  852572125  USA            \n",
       "2447   852440488  USA            \n",
       "23568  NaN        NaN            "
      ]
     },
     "execution_count": 14,
     "metadata": {},
     "output_type": "execute_result"
    }
   ],
   "source": [
    "# business_licenses.reset_index(inplace=True)\n",
    "business_licenses.head()"
   ]
  },
  {
   "cell_type": "code",
   "execution_count": 3,
   "metadata": {},
   "outputs": [
    {
     "data": {
      "text/plain": [
       "ServiceCountry\n",
       "AUS    1    \n",
       "CAN    24   \n",
       "GRB    1    \n",
       "NEZ    1    \n",
       "SAF    1    \n",
       "USA    25727\n",
       "Name: ServiceCountry, dtype: int64"
      ]
     },
     "execution_count": 3,
     "metadata": {},
     "output_type": "execute_result"
    }
   ],
   "source": [
    "# which countries have the highest number of Service Addresses\n",
    "business_licenses.groupby('ServiceCountry')['ServiceCountry'].count()"
   ]
  },
  {
   "cell_type": "code",
   "execution_count": 4,
   "metadata": {},
   "outputs": [
    {
     "data": {
      "text/plain": [
       "ServiceZip  BusinessName                  \n",
       "852574101   2778 LOKER LLC                    12\n",
       "852574102   2778 LOKER LLC                    12\n",
       "852514719   SUNSCAPE VILLAS                   12\n",
       "852514705   SUNSCAPE VILLAS                   6 \n",
       "852510000   CAMEL INVESTMENT LLC              5 \n",
       "852600000   CIMARRON INDUSTRIAL PARTNERS L    5 \n",
       "852515540   RB5M PROPERTIES LLC               4 \n",
       "852515584   RB5M PROPERTIES LLC               4 \n",
       "852602614   NSHE LISCO LLC                    4 \n",
       "852516726   KODIAK PROPERTIES LLC             4 \n",
       "852550000   MP ROW LLC                        4 \n",
       "852572997   BURTON LIVING TRUST               3 \n",
       "852572998   BURTON LIVING TRUST               3 \n",
       "852572459   DRALA LLC                         3 \n",
       "852505658   HUSTON                            3 \n",
       "852515363   68TH STREET CONDOS LLC            3 \n",
       "852516727   HEYNS HOLDINGS LLC                3 \n",
       "852514708   SUNSCAPE VILLAS                   3 \n",
       "852545251   TROJAN DEVELOPMENT ASSOCIATES     2 \n",
       "852602502   SCOTTSDALE AIRPARK KBS-710        2 \n",
       "852516005   ROCKLAND TRAILERS                 2 \n",
       "852513601   GORDONS LLC                       2 \n",
       "852514504   TERRASTAR INC                     2 \n",
       "852601008   SCOTTSDALE LINKS RESORT           2 \n",
       "852603698   PINNACLE BANK                     2 \n",
       "852585505   MRC SCOTTSDALE PARTNERS LLC       2 \n",
       "852571427   CASTNER                           2 \n",
       "852505401   HILTON SCOTTSDALE RESORT & VIL    2 \n",
       "852601677   ANDERSON LAND & DEVELOPMENT LL    2 \n",
       "852585524   CHARLES AND SUSAN WOOD            2 \n",
       "Name: ServiceZip, dtype: int64"
      ]
     },
     "execution_count": 4,
     "metadata": {},
     "output_type": "execute_result"
    }
   ],
   "source": [
    "# a 9 digit 'ServiceZip' defines a relatively small geographical area\n",
    "# which businesses have a large number of locations within these areas?\n",
    "\n",
    "business_licenses.groupby(['ServiceZip','BusinessName'])['ServiceZip'].count().sort_values(ascending=False).head(30)"
   ]
  },
  {
   "cell_type": "code",
   "execution_count": 5,
   "metadata": {},
   "outputs": [
    {
     "data": {
      "text/plain": [
       "BusinessName\n",
       "SUNSCAPE VILLAS                   27\n",
       "2778 LOKER LLC                    24\n",
       "WELLS FARGO BANK NA               18\n",
       "EDWARD D JONES & CO LP            17\n",
       "INVITATION HOMES                  15\n",
       "HONORHEALTH                       15\n",
       "WL SCOTTSDALE THOMAS OWNER LLC    12\n",
       "SCOTTSDALE MEDICAL IMAGING        12\n",
       "SHIPP LTD                         12\n",
       "JPMORGAN CHASE BANK NATIONAL A    11\n",
       "SCA ARIZONA LLC                   10\n",
       "LONGFORD PROPERTY                 10\n",
       "SOUTHWEST DIAGNOSTIC IMAGING L    10\n",
       "WELLS FARGO ADVISORS LLC          10\n",
       "PARNIMUS LLC                      10\n",
       "SCOTTSDALE CANAL PROJECT LLC      10\n",
       "CAMEL INVESTMENT LLC              9 \n",
       "AMERICAN HOMES 4 RENT LP          8 \n",
       "RB5M PROPERTIES LLC               8 \n",
       "MARICOPA AMBULANCE                8 \n",
       "DOROTHY SIMMONS RENTALS           8 \n",
       "RAY FLEEK & MARILYN FLEEK         8 \n",
       "BROOKS BUILDING INC               8 \n",
       "BOWMAN                            8 \n",
       "MI SCOTTSDALE LLC                 7 \n",
       "TEAM SIMMONS                      7 \n",
       "CACTUS RESIDENTIAL PROPERTIES     7 \n",
       "GORDONS LLC                       7 \n",
       "RAAD FAMILY TRUST                 7 \n",
       "DUNKIN DONUTS                     6 \n",
       "Name: BusinessName, dtype: int64"
      ]
     },
     "execution_count": 5,
     "metadata": {},
     "output_type": "execute_result"
    }
   ],
   "source": [
    "# which businesses have the most duplicate names?\n",
    "business_licenses.groupby(['BusinessName'])['BusinessName'].count().sort_values(ascending=False).head(30)"
   ]
  },
  {
   "cell_type": "code",
   "execution_count": 6,
   "metadata": {},
   "outputs": [
    {
     "data": {
      "text/plain": [
       "ServiceState\n",
       "AZ    21696\n",
       "CA    816  \n",
       "TX    293  \n",
       "IL    195  \n",
       "FL    185  \n",
       "NY    173  \n",
       "MN    161  \n",
       "GA    148  \n",
       "CO    146  \n",
       "NJ    144  \n",
       "OH    143  \n",
       "PA    133  \n",
       "MA    129  \n",
       "WA    114  \n",
       "WI    104  \n",
       "NC    104  \n",
       "UT    101  \n",
       "MI    91   \n",
       "TN    71   \n",
       "VA    65   \n",
       "Name: ServiceState, dtype: int64"
      ]
     },
     "execution_count": 6,
     "metadata": {},
     "output_type": "execute_result"
    }
   ],
   "source": [
    "business_licenses.groupby(['ServiceState'])['ServiceState'].count().sort_values(ascending=False).head(20)"
   ]
  },
  {
   "cell_type": "code",
   "execution_count": 7,
   "metadata": {},
   "outputs": [
    {
     "data": {
      "text/html": [
       "<div>\n",
       "<style scoped>\n",
       "    .dataframe tbody tr th:only-of-type {\n",
       "        vertical-align: middle;\n",
       "    }\n",
       "\n",
       "    .dataframe tbody tr th {\n",
       "        vertical-align: top;\n",
       "    }\n",
       "\n",
       "    .dataframe thead th {\n",
       "        text-align: right;\n",
       "    }\n",
       "</style>\n",
       "<table border=\"1\" class=\"dataframe\">\n",
       "  <thead>\n",
       "    <tr style=\"text-align: right;\">\n",
       "      <th></th>\n",
       "      <th>ServiceState</th>\n",
       "    </tr>\n",
       "    <tr>\n",
       "      <th>ServiceState</th>\n",
       "      <th></th>\n",
       "    </tr>\n",
       "  </thead>\n",
       "  <tbody>\n",
       "    <tr>\n",
       "      <th>CA</th>\n",
       "      <td>816</td>\n",
       "    </tr>\n",
       "    <tr>\n",
       "      <th>TX</th>\n",
       "      <td>293</td>\n",
       "    </tr>\n",
       "    <tr>\n",
       "      <th>IL</th>\n",
       "      <td>195</td>\n",
       "    </tr>\n",
       "    <tr>\n",
       "      <th>FL</th>\n",
       "      <td>185</td>\n",
       "    </tr>\n",
       "    <tr>\n",
       "      <th>NY</th>\n",
       "      <td>173</td>\n",
       "    </tr>\n",
       "    <tr>\n",
       "      <th>MN</th>\n",
       "      <td>161</td>\n",
       "    </tr>\n",
       "    <tr>\n",
       "      <th>GA</th>\n",
       "      <td>148</td>\n",
       "    </tr>\n",
       "    <tr>\n",
       "      <th>CO</th>\n",
       "      <td>146</td>\n",
       "    </tr>\n",
       "    <tr>\n",
       "      <th>NJ</th>\n",
       "      <td>144</td>\n",
       "    </tr>\n",
       "    <tr>\n",
       "      <th>OH</th>\n",
       "      <td>143</td>\n",
       "    </tr>\n",
       "    <tr>\n",
       "      <th>PA</th>\n",
       "      <td>133</td>\n",
       "    </tr>\n",
       "    <tr>\n",
       "      <th>MA</th>\n",
       "      <td>129</td>\n",
       "    </tr>\n",
       "    <tr>\n",
       "      <th>WA</th>\n",
       "      <td>114</td>\n",
       "    </tr>\n",
       "    <tr>\n",
       "      <th>WI</th>\n",
       "      <td>104</td>\n",
       "    </tr>\n",
       "    <tr>\n",
       "      <th>NC</th>\n",
       "      <td>104</td>\n",
       "    </tr>\n",
       "    <tr>\n",
       "      <th>UT</th>\n",
       "      <td>101</td>\n",
       "    </tr>\n",
       "    <tr>\n",
       "      <th>MI</th>\n",
       "      <td>91</td>\n",
       "    </tr>\n",
       "    <tr>\n",
       "      <th>TN</th>\n",
       "      <td>71</td>\n",
       "    </tr>\n",
       "    <tr>\n",
       "      <th>VA</th>\n",
       "      <td>65</td>\n",
       "    </tr>\n",
       "    <tr>\n",
       "      <th>OR</th>\n",
       "      <td>59</td>\n",
       "    </tr>\n",
       "  </tbody>\n",
       "</table>\n",
       "</div>"
      ],
      "text/plain": [
       "              ServiceState\n",
       "ServiceState              \n",
       "CA            816         \n",
       "TX            293         \n",
       "IL            195         \n",
       "FL            185         \n",
       "NY            173         \n",
       "MN            161         \n",
       "GA            148         \n",
       "CO            146         \n",
       "NJ            144         \n",
       "OH            143         \n",
       "PA            133         \n",
       "MA            129         \n",
       "WA            114         \n",
       "WI            104         \n",
       "NC            104         \n",
       "UT            101         \n",
       "MI            91          \n",
       "TN            71          \n",
       "VA            65          \n",
       "OR            59          "
      ]
     },
     "execution_count": 7,
     "metadata": {},
     "output_type": "execute_result"
    }
   ],
   "source": [
    "# which states outside of AZ have the largest number of businesses registed within Scottsdale?\n",
    "\n",
    "non_az = business_licenses[~business_licenses['ServiceState'].str.contains('AZ', na=False)] \\\n",
    "    .groupby('ServiceState')['ServiceState'] \\\n",
    "    .count().sort_values(ascending=False) \\\n",
    "    .head(20)\n",
    "\n",
    "non_az = non_az.to_frame()\n",
    "non_az"
   ]
  },
  {
   "cell_type": "code",
   "execution_count": 9,
   "metadata": {},
   "outputs": [
    {
     "data": {
      "text/plain": [
       "Text(0.5, 0, 'States')"
      ]
     },
     "execution_count": 9,
     "metadata": {},
     "output_type": "execute_result"
    },
    {
     "data": {
      "image/png": "[encoded data removed]",
      "text/plain": [
       "<Figure size 1080x504 with 1 Axes>"
      ]
     },
     "metadata": {
      "needs_background": "light"
     },
     "output_type": "display_data"
    }
   ],
   "source": [
    "plt.rcParams[\"figure.figsize\"] = [15, 7]\n",
    "\n",
    "ax = sns.barplot(x=non_az.index, y=non_az.iloc[:,0])\n",
    "\n",
    "plt.title(\"Businesses With Non-AZ Service Addresses\",fontsize=20)\n",
    "plt.ylabel(\"Count of Businesses\",fontsize=15)\n",
    "plt.xlabel(\"States\",fontsize=15)\n",
    "\n",
    "# plt.tick_params(labelsize=17)"
   ]
  },
  {
   "cell_type": "code",
   "execution_count": 21,
   "metadata": {},
   "outputs": [
    {
     "data": {
      "text/plain": [
       "Text(0, 0.5, 'Count')"
      ]
     },
     "execution_count": 21,
     "metadata": {},
     "output_type": "execute_result"
    },
    {
     "data": {
      "image/png": "[encoded data removed]",
      "text/plain": [
       "<Figure size 1080x504 with 1 Axes>"
      ]
     },
     "metadata": {
      "needs_background": "light"
     },
     "output_type": "display_data"
    }
   ],
   "source": [
    "plt.rcParams[\"figure.figsize\"] = [15, 7]    #sets the ploted size\n",
    "plt.title(\"Scottsdale Business License Numbers Issued Over Time\",fontsize=20)\n",
    "plt.xlabel(\"Count of Licenses\",fontsize=14)\n",
    "plt.ylabel(\"License Number\",fontsize=14)\n",
    "\n",
    "sns.lineplot(data=business_licenses['LicenseNumber'])\n",
    "plt.rcParams[\"figure.figsize\"] = [15, 7]\n",
    "plt.ylabel('Count')\n",
    "\n",
    "# this confirms to me that business license numbers may have been sequentialy at the beginning, but this is no longer the case\n",
    "# unsure what accounts for the steep spikes "
   ]
  },
  {
   "cell_type": "code",
   "execution_count": 22,
   "metadata": {},
   "outputs": [
    {
     "data": {
      "text/plain": [
       "Text(0, 0.5, 'Count')"
      ]
     },
     "execution_count": 22,
     "metadata": {},
     "output_type": "execute_result"
    },
    {
     "data": {
      "image/png": "[encoded data removed]",
      "text/plain": [
       "<Figure size 1080x504 with 1 Axes>"
      ]
     },
     "metadata": {
      "needs_background": "light"
     },
     "output_type": "display_data"
    }
   ],
   "source": [
    "plt.rcParams[\"figure.figsize\"] = [15, 7]    #sets the ploted size\n",
    "plt.title(\"Scottsdale Business License Numbers Issued Over Time\",fontsize=20)\n",
    "plt.xlabel(\"Count of Licenses\",fontsize=14)\n",
    "plt.ylabel(\"License Number\",fontsize=14)\n",
    "\n",
    "\n",
    "plt.ylim(0, 30000) #examine just business numbers under 2000\n",
    "plt.xlim(0, 500)\n",
    "\n",
    "sns.lineplot(data=business_licenses['LicenseNumber'])\n",
    "plt.rcParams[\"figure.figsize\"] = [15, 7]\n",
    "plt.ylabel('Count')"
   ]
  }
 ],
 "metadata": {
  "kernelspec": {
   "display_name": "Python 3",
   "language": "python",
   "name": "python3"
  },
  "language_info": {
   "codemirror_mode": {
    "name": "ipython",
    "version": 3
   },
   "file_extension": ".py",
   "mimetype": "text/x-python",
   "name": "python",
   "nbconvert_exporter": "python",
   "pygments_lexer": "ipython3",
   "version": "3.7.1"
  }
 },
 "nbformat": 4,
 "nbformat_minor": 2
}
