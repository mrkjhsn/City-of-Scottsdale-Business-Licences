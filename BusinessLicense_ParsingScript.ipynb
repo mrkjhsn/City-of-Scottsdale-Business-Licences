{
 "cells": [
  {
   "cell_type": "code",
   "execution_count": 81,
   "metadata": {},
   "outputs": [
    {
     "name": "stdout",
     "output_type": "stream",
     "text": [
      "C:\\Users\\mrkjh\\Documents\\Coding Projects\\SQL\\City of Scottsdale\n"
     ]
    }
   ],
   "source": [
    "%cd \"C:/Users/mrkjh/Documents/Coding Projects/SQL/City of Scottsdale"
   ]
  },
  {
   "cell_type": "code",
   "execution_count": 3,
   "metadata": {},
   "outputs": [
    {
     "name": "stdout",
     "output_type": "stream",
     "text": [
      "C:\\Users\\mrkjh\\Documents\\GitHub\\City-of-Scottsdale-Business-Licences\n"
     ]
    }
   ],
   "source": [
    "%cd \"C:/Users/mrkjh/Documents/GitHub/City-of-Scottsdale-Business-Licences/\""
   ]
  },
  {
   "cell_type": "code",
   "execution_count": 1,
   "metadata": {},
   "outputs": [
    {
     "data": {
      "text/plain": [
       "u'C:\\\\Users\\\\mrkjh'"
      ]
     },
     "execution_count": 1,
     "metadata": {},
     "output_type": "execute_result"
    }
   ],
   "source": [
    "%pwd"
   ]
  },
  {
   "cell_type": "code",
   "execution_count": 4,
   "metadata": {},
   "outputs": [],
   "source": [
    "#python script that cleans CSV data and organizes it with a separator that doesn't compromise the data\n",
    "import re\n",
    "\n",
    "inputfile = open('ct_BusinessLicences.csv','r') #pulls raw data\n",
    "output_data = open(\"BusinessLicenses_cleaned.txt\",\"w\") #cleaned data saved in this file\n",
    "index = 0\n",
    "\n",
    "for row in inputfile:\n",
    "    index += 1   #handle the first row differently since it only includes column labels\n",
    "    if index == 1:\n",
    "        headers = re.sub(r',','|',row)\n",
    "        output_data.write(headers)\n",
    "    else:   #all other rows need to be cleaned\n",
    "        bus_name = row[0:(re.search(r'[,]\\d{2,7}[,]', row).start())]  #pulls the business name off the front of the string, using the business number(between 2 and 7 digits) as the point of reference for the regex\n",
    "        bus_info_raw = row[(re.search(r'[,]\\d{2,7}[,]', row).start()):] #pulls everything after the business name into a string\n",
    "        bus_info_clean = re.sub(r',','|',bus_info_raw) #does a find/replace to remove all commas from business info string and replace them with bar character\n",
    "        output_data.write(bus_name+bus_info_clean) #write cleaned data to txt file       "
   ]
  },
  {
   "cell_type": "code",
   "execution_count": null,
   "metadata": {},
   "outputs": [],
   "source": []
  }
 ],
 "metadata": {
  "kernelspec": {
   "display_name": "Python 2",
   "language": "python",
   "name": "python2"
  },
  "language_info": {
   "codemirror_mode": {
    "name": "ipython",
    "version": 2
   },
   "file_extension": ".py",
   "mimetype": "text/x-python",
   "name": "python",
   "nbconvert_exporter": "python",
   "pygments_lexer": "ipython2",
   "version": "2.7.15"
  }
 },
 "nbformat": 4,
 "nbformat_minor": 2
}
